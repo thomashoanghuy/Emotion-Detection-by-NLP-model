{
 "cells": [
  {
   "cell_type": "code",
   "execution_count": 10,
   "id": "hawaiian-dating",
   "metadata": {
    "_cell_guid": "b1076dfc-b9ad-4769-8c92-a6c4dae69d19",
    "_uuid": "8f2839f25d086af736a60e9eeb907d3b93b6e0e5",
    "execution": {
     "iopub.execute_input": "2021-07-04T08:52:13.808702Z",
     "iopub.status.busy": "2021-07-04T08:52:13.808019Z",
     "iopub.status.idle": "2021-07-04T08:52:33.190900Z",
     "shell.execute_reply": "2021-07-04T08:52:33.189702Z",
     "shell.execute_reply.started": "2021-07-04T06:14:09.703139Z"
    },
    "id": "hawaiian-dating",
    "outputId": "e60168b8-1771-47bb-a6b6-bec9339e6bef",
    "papermill": {
     "duration": 19.418641,
     "end_time": "2021-07-04T08:52:33.191052",
     "exception": false,
     "start_time": "2021-07-04T08:52:13.772411",
     "status": "completed"
    },
    "scrolled": true,
    "tags": []
   },
   "outputs": [
    {
     "name": "stderr",
     "output_type": "stream",
     "text": [
      "[nltk_data] Downloading package stopwords to\n",
      "[nltk_data]     C:\\Users\\user\\AppData\\Roaming\\nltk_data...\n",
      "[nltk_data]   Package stopwords is already up-to-date!\n",
      "[nltk_data] Downloading package wordnet to\n",
      "[nltk_data]     C:\\Users\\user\\AppData\\Roaming\\nltk_data...\n",
      "[nltk_data]   Package wordnet is already up-to-date!\n",
      "ERROR: Invalid requirement: '#A'\n"
     ]
    }
   ],
   "source": [
    "import numpy as np\n",
    "import pandas as pd\n",
    "import nltk\n",
    "nltk.download('stopwords') #A stop word is a commonly used word (such as “the”, “a”, “an”, “in”) that a search engine has been programmed to ignore, both when indexing entries for searching and when retrieving them as the result of a search query. \n",
    "nltk.download('wordnet') #WordNet is a NLTK lexical database containing details such as synonyms, antonyms, etc.\n",
    "from nltk.corpus import stopwords\n",
    "from nltk.stem import WordNetLemmatizer\n",
    "!pip install contractions #A contraction is a shortened version of the spoken and written forms of a word, syllable, or word group, created by omission of internal letters and sounds. For example, not is contracted to n't, I am is contracted to I'm.\n",
    "import contractions\n",
    "import re\n",
    "import tensorflow as tf\n",
    "from tensorflow.keras.optimizers import Adam\n",
    "import matplotlib.pyplot as plt\n",
    "import seaborn as sns"
   ]
  },
  {
   "cell_type": "markdown",
   "id": "3a6fdae9",
   "metadata": {},
   "source": [
    "### LOADING THE DATA ( *** REMEMBER TO SAVE THE DATA SETS IN THE SAME FOLDER WITH THE NOTEBOOK)\n",
    "### Note: These are twitter data, sourced from GITHUB\n",
    "We only need the texts and the emotions classes for each text, so we will extract these 2 only"
   ]
  },
  {
   "cell_type": "code",
   "execution_count": 11,
   "id": "accepted-carbon",
   "metadata": {
    "execution": {
     "iopub.execute_input": "2021-07-04T08:52:33.270540Z",
     "iopub.status.busy": "2021-07-04T08:52:33.269997Z",
     "iopub.status.idle": "2021-07-04T08:52:33.377459Z",
     "shell.execute_reply": "2021-07-04T08:52:33.377856Z",
     "shell.execute_reply.started": "2021-07-04T06:14:26.431406Z"
    },
    "id": "accepted-carbon",
    "outputId": "0e604c77-95a3-4e71-8281-63cf2a700ead",
    "papermill": {
     "duration": 0.153928,
     "end_time": "2021-07-04T08:52:33.377992",
     "exception": false,
     "start_time": "2021-07-04T08:52:33.224064",
     "status": "completed"
    },
    "tags": []
   },
   "outputs": [
    {
     "data": {
      "text/html": [
       "<div>\n",
       "<style scoped>\n",
       "    .dataframe tbody tr th:only-of-type {\n",
       "        vertical-align: middle;\n",
       "    }\n",
       "\n",
       "    .dataframe tbody tr th {\n",
       "        vertical-align: top;\n",
       "    }\n",
       "\n",
       "    .dataframe thead th {\n",
       "        text-align: right;\n",
       "    }\n",
       "</style>\n",
       "<table border=\"1\" class=\"dataframe\">\n",
       "  <thead>\n",
       "    <tr style=\"text-align: right;\">\n",
       "      <th></th>\n",
       "      <th>text</th>\n",
       "      <th>emotion</th>\n",
       "    </tr>\n",
       "  </thead>\n",
       "  <tbody>\n",
       "    <tr>\n",
       "      <th>0</th>\n",
       "      <td>i didnt feel humiliated</td>\n",
       "      <td>sadness</td>\n",
       "    </tr>\n",
       "    <tr>\n",
       "      <th>1</th>\n",
       "      <td>i can go from feeling so hopeless to so damned...</td>\n",
       "      <td>sadness</td>\n",
       "    </tr>\n",
       "    <tr>\n",
       "      <th>2</th>\n",
       "      <td>im grabbing a minute to post i feel greedy wrong</td>\n",
       "      <td>anger</td>\n",
       "    </tr>\n",
       "    <tr>\n",
       "      <th>3</th>\n",
       "      <td>i am ever feeling nostalgic about the fireplac...</td>\n",
       "      <td>love</td>\n",
       "    </tr>\n",
       "    <tr>\n",
       "      <th>4</th>\n",
       "      <td>i am feeling grouchy</td>\n",
       "      <td>anger</td>\n",
       "    </tr>\n",
       "  </tbody>\n",
       "</table>\n",
       "</div>"
      ],
      "text/plain": [
       "                                                text  emotion\n",
       "0                            i didnt feel humiliated  sadness\n",
       "1  i can go from feeling so hopeless to so damned...  sadness\n",
       "2   im grabbing a minute to post i feel greedy wrong    anger\n",
       "3  i am ever feeling nostalgic about the fireplac...     love\n",
       "4                               i am feeling grouchy    anger"
      ]
     },
     "execution_count": 11,
     "metadata": {},
     "output_type": "execute_result"
    }
   ],
   "source": [
    "train_data = pd.read_csv('train.txt', names=['text', 'emotion'], sep=';')\n",
    "val_data = pd.read_csv('val.txt', names=['text', 'emotion'], sep=';')\n",
    "test_data = pd.read_csv('test.txt', names=['text', 'emotion'], sep=';')\n",
    "train_data.head()"
   ]
  },
  {
   "cell_type": "markdown",
   "id": "affiliated-westminster",
   "metadata": {
    "id": "affiliated-westminster",
    "papermill": {
     "duration": 0.031889,
     "end_time": "2021-07-04T08:52:33.441581",
     "exception": false,
     "start_time": "2021-07-04T08:52:33.409692",
     "status": "completed"
    },
    "tags": []
   },
   "source": [
    "# Data Overview (EDA)"
   ]
  },
  {
   "cell_type": "markdown",
   "id": "conditional-fluid",
   "metadata": {
    "id": "conditional-fluid",
    "papermill": {
     "duration": 0.032366,
     "end_time": "2021-07-04T08:52:33.505727",
     "exception": false,
     "start_time": "2021-07-04T08:52:33.473361",
     "status": "completed"
    },
    "tags": []
   },
   "source": [
    "**Check for null values in train, validation and test dataset**"
   ]
  },
  {
   "cell_type": "code",
   "execution_count": 12,
   "id": "placed-oxide",
   "metadata": {
    "execution": {
     "iopub.execute_input": "2021-07-04T08:52:33.582208Z",
     "iopub.status.busy": "2021-07-04T08:52:33.577098Z",
     "iopub.status.idle": "2021-07-04T08:52:33.585179Z",
     "shell.execute_reply": "2021-07-04T08:52:33.585594Z",
     "shell.execute_reply.started": "2021-07-04T06:18:02.992079Z"
    },
    "id": "placed-oxide",
    "outputId": "578fbccc-f161-420d-e28a-137709066ad2",
    "papermill": {
     "duration": 0.047918,
     "end_time": "2021-07-04T08:52:33.585720",
     "exception": false,
     "start_time": "2021-07-04T08:52:33.537802",
     "status": "completed"
    },
    "tags": []
   },
   "outputs": [
    {
     "name": "stdout",
     "output_type": "stream",
     "text": [
      "Train Data\n",
      "text       0\n",
      "emotion    0\n",
      "dtype: int64\n",
      "********************\n",
      "Validation Data\n",
      "text       0\n",
      "emotion    0\n",
      "dtype: int64\n",
      "********************\n",
      "Test Data\n",
      "text       0\n",
      "emotion    0\n",
      "dtype: int64\n",
      "********************\n"
     ]
    }
   ],
   "source": [
    "data = {'Train Data': train_data, 'Validation Data': val_data, 'Test Data': test_data}\n",
    "for temp in data:\n",
    "    print(temp)\n",
    "    print(data[temp].isnull().sum())\n",
    "    print('*'*20)"
   ]
  },
  {
   "cell_type": "markdown",
   "id": "overhead-standard",
   "metadata": {
    "id": "overhead-standard",
    "papermill": {
     "duration": 0.033677,
     "end_time": "2021-07-04T08:52:33.651625",
     "exception": false,
     "start_time": "2021-07-04T08:52:33.617948",
     "status": "completed"
    },
    "tags": []
   },
   "source": [
    "**Below is the frequencies of each classes in Train, val and test dataset**"
   ]
  },
  {
   "cell_type": "code",
   "execution_count": 13,
   "id": "stopped-teddy",
   "metadata": {
    "execution": {
     "iopub.execute_input": "2021-07-04T08:52:33.737256Z",
     "iopub.status.busy": "2021-07-04T08:52:33.736584Z",
     "iopub.status.idle": "2021-07-04T08:52:34.138628Z",
     "shell.execute_reply": "2021-07-04T08:52:34.139036Z",
     "shell.execute_reply.started": "2021-07-04T06:18:03.171517Z"
    },
    "id": "stopped-teddy",
    "outputId": "d5d6d492-b731-40a6-fd21-a03ef6cf1c97",
    "papermill": {
     "duration": 0.453372,
     "end_time": "2021-07-04T08:52:34.139174",
     "exception": false,
     "start_time": "2021-07-04T08:52:33.685802",
     "status": "completed"
    },
    "tags": []
   },
   "outputs": [
    {
     "data": {
      "image/png": "[encoded data removed]",
      "text/plain": [
       "<Figure size 2160x720 with 3 Axes>"
      ]
     },
     "metadata": {
      "needs_background": "light"
     },
     "output_type": "display_data"
    }
   ],
   "source": [
    "bar, ax = plt.subplots(1,3, figsize=(30, 10))\n",
    "for index, temp in enumerate(data):\n",
    "    sns.countplot(ax = ax[index],x = 'emotion', data = data[temp])\n",
    "    ax[index].set_title(temp+' Class Frequency', size=14)\n",
    "    ax[index].set_ylabel('Frequency', size=14)\n",
    "    ax[index].set_xlabel(temp+' Class', size=14)"
   ]
  },
  {
   "cell_type": "markdown",
   "id": "VefeThmg9Leb",
   "metadata": {
    "id": "VefeThmg9Leb"
   },
   "source": [
    "The data is skewed towards sadness and joy thus. Detection of these data might be more efficient than detection of lesser present data such as surprise."
   ]
  },
  {
   "cell_type": "markdown",
   "id": "protective-bermuda",
   "metadata": {
    "id": "protective-bermuda",
    "papermill": {
     "duration": 0.032979,
     "end_time": "2021-07-04T08:52:34.205789",
     "exception": false,
     "start_time": "2021-07-04T08:52:34.172810",
     "status": "completed"
    },
    "tags": []
   },
   "source": [
    "It is evident that dataset is highly imbalanced. \"Joy\" class has highest frequency  and 'Surprise' have least frequency in all three datasets."
   ]
  },
  {
   "cell_type": "markdown",
   "id": "measured-browser",
   "metadata": {
    "id": "measured-browser",
    "papermill": {
     "duration": 0.053874,
     "end_time": "2021-07-04T08:52:38.213330",
     "exception": false,
     "start_time": "2021-07-04T08:52:38.159456",
     "status": "completed"
    },
    "tags": []
   },
   "source": [
    "# Data Pre-Processing"
   ]
  },
  {
   "cell_type": "markdown",
   "id": "breathing-jenny",
   "metadata": {
    "id": "breathing-jenny",
    "papermill": {
     "duration": 0.054259,
     "end_time": "2021-07-04T08:52:38.322076",
     "exception": false,
     "start_time": "2021-07-04T08:52:38.267817",
     "status": "completed"
    },
    "tags": []
   },
   "source": [
    "**Preprocessing includes:**\n",
    "1. Removing stopwords (without removing negative words)\n",
    "2. Expand Contractions\n",
    "3. Lemmatization\n",
    "\n",
    "**Note:** Negative words are removed from the set of stopwords as it makes \"I am not happy\" to \"happy\" after preprocessing. In short, it can change the semantic meaning of sentence and result into wrong training."
   ]
  },
  {
   "cell_type": "code",
   "execution_count": 14,
   "id": "sized-summit",
   "metadata": {
    "execution": {
     "iopub.execute_input": "2021-07-04T08:52:38.435992Z",
     "iopub.status.busy": "2021-07-04T08:52:38.435187Z",
     "iopub.status.idle": "2021-07-04T08:52:38.437998Z",
     "shell.execute_reply": "2021-07-04T08:52:38.437583Z",
     "shell.execute_reply.started": "2021-07-04T06:14:26.554444Z"
    },
    "id": "sized-summit",
    "papermill": {
     "duration": 0.062524,
     "end_time": "2021-07-04T08:52:38.438110",
     "exception": false,
     "start_time": "2021-07-04T08:52:38.375586",
     "status": "completed"
    },
    "tags": []
   },
   "outputs": [],
   "source": [
    "def preprocess(sentence):\n",
    "    stop_words = set(stopwords.words('english'))\n",
    "    lemmatizer = WordNetLemmatizer()\n",
    "    sentence = re.sub('[^A-z]', ' ', sentence)\n",
    "    negative = ['not', 'neither', 'nor', 'but', 'however', 'although', 'nonetheless', 'despite', 'except', 'even though', 'yet']\n",
    "    stop_words = [z for z in stop_words if z not in negative]\n",
    "    preprocessed_tokens = [lemmatizer.lemmatize(contractions.fix(temp.lower())) for temp in sentence.split() if temp not in stop_words] #lemmatization\n",
    "    return ' '.join([x for x in preprocessed_tokens]).strip()\n"
   ]
  },
  {
   "cell_type": "code",
   "execution_count": 15,
   "id": "played-parks",
   "metadata": {
    "execution": {
     "iopub.execute_input": "2021-07-04T08:52:38.550027Z",
     "iopub.status.busy": "2021-07-04T08:52:38.549277Z",
     "iopub.status.idle": "2021-07-04T08:52:46.645931Z",
     "shell.execute_reply": "2021-07-04T08:52:46.645189Z",
     "shell.execute_reply.started": "2021-07-04T06:14:26.567208Z"
    },
    "id": "played-parks",
    "papermill": {
     "duration": 8.155133,
     "end_time": "2021-07-04T08:52:46.646072",
     "exception": false,
     "start_time": "2021-07-04T08:52:38.490939",
     "status": "completed"
    },
    "tags": []
   },
   "outputs": [],
   "source": [
    "train_data['text'] = train_data['text'].apply(lambda x: preprocess(x))\n",
    "val_data['text'] = val_data['text'].apply(lambda x: preprocess(x))\n",
    "test_data['text'] = test_data['text'].apply(lambda x: preprocess(x))"
   ]
  },
  {
   "cell_type": "markdown",
   "id": "powered-mouth",
   "metadata": {
    "id": "powered-mouth",
    "papermill": {
     "duration": 0.053655,
     "end_time": "2021-07-04T08:52:46.754183",
     "exception": false,
     "start_time": "2021-07-04T08:52:46.700528",
     "status": "completed"
    },
    "tags": []
   },
   "source": [
    "**Note:** As class imbalanced is evident, RandomOverSampler is used to add data(repetition) to all classes except highest frequency class."
   ]
  },
  {
   "cell_type": "code",
   "execution_count": 16,
   "id": "furnished-melbourne",
   "metadata": {
    "execution": {
     "iopub.execute_input": "2021-07-04T08:52:46.867316Z",
     "iopub.status.busy": "2021-07-04T08:52:46.866603Z",
     "iopub.status.idle": "2021-07-04T08:52:47.157684Z",
     "shell.execute_reply": "2021-07-04T08:52:47.156847Z",
     "shell.execute_reply.started": "2021-07-04T06:14:34.849248Z"
    },
    "id": "furnished-melbourne",
    "papermill": {
     "duration": 0.350089,
     "end_time": "2021-07-04T08:52:47.157822",
     "exception": false,
     "start_time": "2021-07-04T08:52:46.807733",
     "status": "completed"
    },
    "tags": []
   },
   "outputs": [],
   "source": [
    "from imblearn.over_sampling import RandomOverSampler\n",
    "random_sampler = RandomOverSampler(random_state=0)\n",
    "train_x, train_y = random_sampler.fit_resample(np.array(train_data['text']).reshape(-1, 1), np.array(train_data['emotion']).reshape(-1, 1))\n",
    "train = pd.DataFrame(list(zip([x[0] for x in train_x], train_y)), columns = ['text', 'emotion'])"
   ]
  },
  {
   "cell_type": "markdown",
   "id": "generic-brunei",
   "metadata": {
    "id": "generic-brunei",
    "papermill": {
     "duration": 0.05338,
     "end_time": "2021-07-04T08:52:47.265215",
     "exception": false,
     "start_time": "2021-07-04T08:52:47.211835",
     "status": "completed"
    },
    "tags": []
   },
   "source": [
    "## Apply OneHotEncoder to transform the data  (uniformize the data to one-hot array) to feed into model"
   ]
  },
  {
   "cell_type": "code",
   "execution_count": 17,
   "id": "alone-september",
   "metadata": {
    "execution": {
     "iopub.execute_input": "2021-07-04T08:52:47.387799Z",
     "iopub.status.busy": "2021-07-04T08:52:47.386867Z",
     "iopub.status.idle": "2021-07-04T08:52:47.393435Z",
     "shell.execute_reply": "2021-07-04T08:52:47.392915Z",
     "shell.execute_reply.started": "2021-07-04T06:18:02.631924Z"
    },
    "id": "alone-september",
    "papermill": {
     "duration": 0.074842,
     "end_time": "2021-07-04T08:52:47.393547",
     "exception": false,
     "start_time": "2021-07-04T08:52:47.318705",
     "status": "completed"
    },
    "tags": []
   },
   "outputs": [],
   "source": [
    "from sklearn import preprocessing\n",
    "le = preprocessing.OneHotEncoder()\n",
    "y_train= le.fit_transform(np.array(train['emotion']).reshape(-1, 1)).toarray()\n",
    "y_test= le.fit_transform(np.array(test_data['emotion']).reshape(-1, 1)).toarray()\n",
    "y_val= le.fit_transform(np.array(val_data['emotion']).reshape(-1, 1)).toarray()"
   ]
  },
  {
   "cell_type": "markdown",
   "id": "curious-parcel",
   "metadata": {
    "id": "curious-parcel",
    "papermill": {
     "duration": 0.053104,
     "end_time": "2021-07-04T08:52:47.499710",
     "exception": false,
     "start_time": "2021-07-04T08:52:47.446606",
     "status": "completed"
    },
    "tags": []
   },
   "source": [
    "# Encoding"
   ]
  },
  {
   "cell_type": "markdown",
   "id": "hollywood-plymouth",
   "metadata": {
    "id": "hollywood-plymouth",
    "papermill": {
     "duration": 0.053456,
     "end_time": "2021-07-04T08:52:47.606722",
     "exception": false,
     "start_time": "2021-07-04T08:52:47.553266",
     "status": "completed"
    },
    "tags": []
   },
   "source": [
    "* Tokenize the text and Add special tokens - [CLS] and [SEP]\n",
    "* create input IDs\n",
    "* Pad the sentences to a maximum length, to make sure sentences to have same length for preprocessing\n",
    "* Create attention masks for the above PAD tokens\n"
   ]
  },
  {
   "cell_type": "code",
   "execution_count": 18,
   "id": "seven-suspension",
   "metadata": {
    "execution": {
     "iopub.execute_input": "2021-07-04T08:52:47.718739Z",
     "iopub.status.busy": "2021-07-04T08:52:47.718037Z",
     "iopub.status.idle": "2021-07-04T08:52:57.978027Z",
     "shell.execute_reply": "2021-07-04T08:52:57.977549Z",
     "shell.execute_reply.started": "2021-07-04T06:18:09.068128Z"
    },
    "id": "seven-suspension",
    "papermill": {
     "duration": 10.317701,
     "end_time": "2021-07-04T08:52:57.978165",
     "exception": false,
     "start_time": "2021-07-04T08:52:47.660464",
     "status": "completed"
    },
    "tags": []
   },
   "outputs": [],
   "source": [
    "from transformers import RobertaTokenizerFast\n",
    "tokenizer = RobertaTokenizerFast.from_pretrained(\"roberta-base\")"
   ]
  },
  {
   "cell_type": "code",
   "execution_count": 31,
   "id": "suburban-identifier",
   "metadata": {
    "execution": {
     "iopub.execute_input": "2021-07-04T08:52:58.096522Z",
     "iopub.status.busy": "2021-07-04T08:52:58.095003Z",
     "iopub.status.idle": "2021-07-04T08:52:58.097365Z",
     "shell.execute_reply": "2021-07-04T08:52:58.097777Z",
     "shell.execute_reply.started": "2021-07-04T06:19:59.162099Z"
    },
    "id": "suburban-identifier",
    "papermill": {
     "duration": 0.063736,
     "end_time": "2021-07-04T08:52:58.097910",
     "exception": false,
     "start_time": "2021-07-04T08:52:58.034174",
     "status": "completed"
    },
    "tags": []
   },
   "outputs": [],
   "source": [
    "def roberta_encode(data,maximum_length) :\n",
    "  input_ids = []\n",
    "  attention_masks = []\n",
    "  \n",
    "\n",
    "  for i in range(len(data.text)):\n",
    "      encoded = tokenizer.encode_plus(\n",
    "        data.text[i],\n",
    "        add_special_tokens=True,\n",
    "        max_length=maximum_length,\n",
    "        pad_to_max_length=True,\n",
    "        return_attention_mask=True   \n",
    "      )\n",
    "      \n",
    "      input_ids.append(encoded['input_ids'])\n",
    "      attention_masks.append(encoded['attention_mask'])\n",
    "  return np.array(input_ids),np.array(attention_masks)"
   ]
  },
  {
   "cell_type": "code",
   "execution_count": 32,
   "id": "thorough-invite",
   "metadata": {
    "execution": {
     "iopub.execute_input": "2021-07-04T08:52:58.223770Z",
     "iopub.status.busy": "2021-07-04T08:52:58.223206Z",
     "iopub.status.idle": "2021-07-04T08:53:03.897926Z",
     "shell.execute_reply": "2021-07-04T08:53:03.897428Z",
     "shell.execute_reply.started": "2021-07-04T06:19:59.496952Z"
    },
    "id": "thorough-invite",
    "outputId": "a853df0e-ab5f-48a3-8eef-8b21604812eb",
    "papermill": {
     "duration": 5.745324,
     "end_time": "2021-07-04T08:53:03.898065",
     "exception": false,
     "start_time": "2021-07-04T08:52:58.152741",
     "status": "completed"
    },
    "tags": []
   },
   "outputs": [
    {
     "name": "stderr",
     "output_type": "stream",
     "text": [
      "C:\\Users\\user\\AppData\\Roaming\\Python\\Python39\\site-packages\\transformers\\tokenization_utils_base.py:2212: FutureWarning: The `pad_to_max_length` argument is deprecated and will be removed in a future version, use `padding=True` or `padding='longest'` to pad to the longest sequence in the batch, or use `padding='max_length'` to pad to a max length. In this case, you can give a specific length with `max_length` (e.g. `max_length=45`) or leave max_length to None to pad to the maximal input size of the model (e.g. 512 for Bert).\n",
      "  warnings.warn(\n"
     ]
    }
   ],
   "source": [
    "max_len = max([len(x.split()) for x in train_data['text']])\n",
    "train_input_ids,train_attention_masks = roberta_encode(train, max_len)\n",
    "test_input_ids,test_attention_masks = roberta_encode(test_data, max_len)\n",
    "val_input_ids,val_attention_masks = roberta_encode(val_data, max_len)"
   ]
  },
  {
   "cell_type": "markdown",
   "id": "passive-surveillance",
   "metadata": {
    "id": "passive-surveillance",
    "papermill": {
     "duration": 0.061309,
     "end_time": "2021-07-04T08:53:04.019765",
     "exception": false,
     "start_time": "2021-07-04T08:53:03.958456",
     "status": "completed"
    },
    "tags": []
   },
   "source": [
    "# Create Model functions, density, metrics = 'accuracy' and compile the model by using the output from the encoding function"
   ]
  },
  {
   "cell_type": "code",
   "execution_count": 21,
   "id": "economic-elements",
   "metadata": {
    "execution": {
     "iopub.execute_input": "2021-07-04T08:53:04.268972Z",
     "iopub.status.busy": "2021-07-04T08:53:04.268097Z",
     "iopub.status.idle": "2021-07-04T08:53:04.271204Z",
     "shell.execute_reply": "2021-07-04T08:53:04.270723Z",
     "shell.execute_reply.started": "2021-07-04T06:20:05.376875Z"
    },
    "id": "economic-elements",
    "papermill": {
     "duration": 0.070448,
     "end_time": "2021-07-04T08:53:04.271328",
     "exception": false,
     "start_time": "2021-07-04T08:53:04.200880",
     "status": "completed"
    },
    "tags": []
   },
   "outputs": [],
   "source": [
    "def create_model(bert_model, max_len):\n",
    "    input_ids = tf.keras.Input(shape=(max_len,),dtype='int32')\n",
    "    attention_masks = tf.keras.Input(shape=(max_len,),dtype='int32')\n",
    "\n",
    "    output = bert_model([input_ids,attention_masks])\n",
    "    output = output[1]\n",
    "\n",
    "    output = tf.keras.layers.Dense(6, activation='softmax')(output)\n",
    "    model = tf.keras.models.Model(inputs = [input_ids,attention_masks],outputs = output)\n",
    "    model.compile(Adam(lr=1e-5), loss='categorical_crossentropy', metrics=['accuracy'])\n",
    "    return model"
   ]
  },
  {
   "cell_type": "code",
   "execution_count": 22,
   "id": "heated-wrist",
   "metadata": {
    "execution": {
     "iopub.execute_input": "2021-07-04T08:53:04.397823Z",
     "iopub.status.busy": "2021-07-04T08:53:04.397188Z",
     "iopub.status.idle": "2021-07-04T08:53:31.876003Z",
     "shell.execute_reply": "2021-07-04T08:53:31.875374Z",
     "shell.execute_reply.started": "2021-07-04T06:20:11.036646Z"
    },
    "id": "heated-wrist",
    "outputId": "58127b15-a585-4d64-a02f-fb9bdefe3539",
    "papermill": {
     "duration": 27.54207,
     "end_time": "2021-07-04T08:53:31.876164",
     "exception": false,
     "start_time": "2021-07-04T08:53:04.334094",
     "status": "completed"
    },
    "tags": []
   },
   "outputs": [
    {
     "name": "stderr",
     "output_type": "stream",
     "text": [
      "Some layers from the model checkpoint at roberta-base were not used when initializing TFRobertaModel: ['lm_head']\n",
      "- This IS expected if you are initializing TFRobertaModel from the checkpoint of a model trained on another task or with another architecture (e.g. initializing a BertForSequenceClassification model from a BertForPreTraining model).\n",
      "- This IS NOT expected if you are initializing TFRobertaModel from the checkpoint of a model that you expect to be exactly identical (initializing a BertForSequenceClassification model from a BertForSequenceClassification model).\n",
      "All the layers of TFRobertaModel were initialized from the model checkpoint at roberta-base.\n",
      "If your task is similar to the task the model of the checkpoint was trained on, you can already use TFRobertaModel for predictions without further training.\n"
     ]
    }
   ],
   "source": [
    "from transformers import TFRobertaModel\n",
    "roberta_model = TFRobertaModel.from_pretrained('roberta-base')"
   ]
  },
  {
   "cell_type": "code",
   "execution_count": 23,
   "id": "pointed-repeat",
   "metadata": {
    "execution": {
     "iopub.execute_input": "2021-07-04T08:53:31.999571Z",
     "iopub.status.busy": "2021-07-04T08:53:31.995649Z",
     "iopub.status.idle": "2021-07-04T08:53:37.893087Z",
     "shell.execute_reply": "2021-07-04T08:53:37.892650Z",
     "shell.execute_reply.started": "2021-07-04T06:20:55.756808Z"
    },
    "id": "pointed-repeat",
    "outputId": "57c491ef-d5fc-45e2-db25-e47052595b3b",
    "papermill": {
     "duration": 5.958359,
     "end_time": "2021-07-04T08:53:37.893226",
     "exception": false,
     "start_time": "2021-07-04T08:53:31.934867",
     "status": "completed"
    },
    "scrolled": true,
    "tags": []
   },
   "outputs": [
    {
     "name": "stdout",
     "output_type": "stream",
     "text": [
      "Model: \"model\"\n",
      "__________________________________________________________________________________________________\n",
      " Layer (type)                   Output Shape         Param #     Connected to                     \n",
      "==================================================================================================\n",
      " input_1 (InputLayer)           [(None, 43)]         0           []                               \n",
      "                                                                                                  \n",
      " input_2 (InputLayer)           [(None, 43)]         0           []                               \n",
      "                                                                                                  \n",
      " tf_roberta_model (TFRobertaMod  TFBaseModelOutputWi  124645632  ['input_1[0][0]',                \n",
      " el)                            thPoolingAndCrossAt               'input_2[0][0]']                \n",
      "                                tentions(last_hidde                                               \n",
      "                                n_state=(None, 43,                                                \n",
      "                                768),                                                             \n",
      "                                 pooler_output=(Non                                               \n",
      "                                e, 768),                                                          \n",
      "                                 past_key_values=No                                               \n",
      "                                ne, hidden_states=N                                               \n",
      "                                one, attentions=Non                                               \n",
      "                                e, cross_attentions                                               \n",
      "                                =None)                                                            \n",
      "                                                                                                  \n",
      " dense (Dense)                  (None, 6)            4614        ['tf_roberta_model[0][1]']       \n",
      "                                                                                                  \n",
      "==================================================================================================\n",
      "Total params: 124,650,246\n",
      "Trainable params: 124,650,246\n",
      "Non-trainable params: 0\n",
      "__________________________________________________________________________________________________\n"
     ]
    },
    {
     "name": "stderr",
     "output_type": "stream",
     "text": [
      "C:\\Users\\user\\anaconda3\\lib\\site-packages\\keras\\optimizers\\optimizer_v2\\adam.py:110: UserWarning: The `lr` argument is deprecated, use `learning_rate` instead.\n",
      "  super(Adam, self).__init__(name, **kwargs)\n"
     ]
    }
   ],
   "source": [
    "model = create_model(roberta_model, max_len)\n",
    "model.summary()"
   ]
  },
  {
   "cell_type": "markdown",
   "id": "monetary-belgium",
   "metadata": {
    "id": "monetary-belgium",
    "papermill": {
     "duration": 0.058184,
     "end_time": "2021-07-04T08:53:38.010398",
     "exception": false,
     "start_time": "2021-07-04T08:53:37.952214",
     "status": "completed"
    },
    "tags": []
   },
   "source": [
    "# Model Training"
   ]
  },
  {
   "cell_type": "code",
   "execution_count": 17,
   "id": "harmful-configuration",
   "metadata": {
    "execution": {
     "iopub.execute_input": "2021-07-04T08:53:38.132923Z",
     "iopub.status.busy": "2021-07-04T08:53:38.131677Z",
     "iopub.status.idle": "2021-07-04T09:04:10.595591Z",
     "shell.execute_reply": "2021-07-04T09:04:10.596015Z",
     "shell.execute_reply.started": "2021-07-04T06:21:02.421026Z"
    },
    "id": "harmful-configuration",
    "outputId": "7892c717-92ce-4200-ddf5-fbe01cc9a387",
    "papermill": {
     "duration": 632.527904,
     "end_time": "2021-07-04T09:04:10.596190",
     "exception": false,
     "start_time": "2021-07-04T08:53:38.068286",
     "status": "completed"
    },
    "scrolled": true,
    "tags": []
   },
   "outputs": [
    {
     "name": "stdout",
     "output_type": "stream",
     "text": [
      "Epoch 1/4\n",
      "322/322 [==============================] - 4150s 13s/step - loss: 0.5673 - accuracy: 0.7865 - val_loss: 0.2422 - val_accuracy: 0.9190\n",
      "Epoch 2/4\n",
      "322/322 [==============================] - 3447s 11s/step - loss: 0.1627 - accuracy: 0.9423 - val_loss: 0.2102 - val_accuracy: 0.9250\n",
      "Epoch 3/4\n",
      "322/322 [==============================] - 2678s 8s/step - loss: 0.1226 - accuracy: 0.9524 - val_loss: 0.1768 - val_accuracy: 0.9280\n",
      "Epoch 4/4\n",
      "322/322 [==============================] - 2678s 8s/step - loss: 0.1020 - accuracy: 0.9593 - val_loss: 0.1660 - val_accuracy: 0.9350\n"
     ]
    }
   ],
   "source": [
    "history = model.fit([train_input_ids,train_attention_masks], y_train, validation_data=([val_input_ids,val_attention_masks], y_val), epochs=4,batch_size=100)"
   ]
  },
  {
   "cell_type": "markdown",
   "id": "arabic-bandwidth",
   "metadata": {
    "id": "arabic-bandwidth",
    "papermill": {
     "duration": 0.387792,
     "end_time": "2021-07-04T09:04:11.411081",
     "exception": false,
     "start_time": "2021-07-04T09:04:11.023289",
     "status": "completed"
    },
    "tags": []
   },
   "source": [
    "### EVALUATION OF THE TRAINED MODEL"
   ]
  },
  {
   "cell_type": "code",
   "execution_count": 107,
   "id": "domestic-consultancy",
   "metadata": {
    "execution": {
     "iopub.execute_input": "2021-07-04T09:04:12.196549Z",
     "iopub.status.busy": "2021-07-04T09:04:12.195506Z",
     "iopub.status.idle": "2021-07-04T09:04:12.321921Z",
     "shell.execute_reply": "2021-07-04T09:04:12.321479Z",
     "shell.execute_reply.started": "2021-07-04T06:31:37.079279Z"
    },
    "id": "domestic-consultancy",
    "outputId": "fbf65478-2ec2-4f0b-fc11-144a2e975b7d",
    "papermill": {
     "duration": 0.523203,
     "end_time": "2021-07-04T09:04:12.322035",
     "exception": false,
     "start_time": "2021-07-04T09:04:11.798832",
     "status": "completed"
    },
    "tags": []
   },
   "outputs": [
    {
     "data": {
      "image/png": "[encoded data removed]",
      "text/plain": [
       "<Figure size 432x288 with 1 Axes>"
      ]
     },
     "metadata": {
      "needs_background": "light"
     },
     "output_type": "display_data"
    }
   ],
   "source": [
    "plt.plot(history.history['accuracy'])\n",
    "plt.plot(history.history['val_accuracy'])\n",
    "plt.title('model accuracy')\n",
    "plt.ylabel('accuracy')\n",
    "plt.xlabel('epoch')\n",
    "plt.legend(['train', 'val'], loc='upper left')\n",
    "plt.show()"
   ]
  },
  {
   "cell_type": "code",
   "execution_count": 108,
   "id": "continental-leave",
   "metadata": {
    "execution": {
     "iopub.execute_input": "2021-07-04T09:04:13.296001Z",
     "iopub.status.busy": "2021-07-04T09:04:13.295166Z",
     "iopub.status.idle": "2021-07-04T09:04:13.464921Z",
     "shell.execute_reply": "2021-07-04T09:04:13.464264Z",
     "shell.execute_reply.started": "2021-07-04T06:31:37.229477Z"
    },
    "id": "continental-leave",
    "outputId": "bf812d16-5907-456a-99a3-a59ac3291d92",
    "papermill": {
     "duration": 0.763631,
     "end_time": "2021-07-04T09:04:13.465050",
     "exception": false,
     "start_time": "2021-07-04T09:04:12.701419",
     "status": "completed"
    },
    "tags": []
   },
   "outputs": [
    {
     "data": {
      "image/png": "[encoded data removed]",
      "text/plain": [
       "<Figure size 432x288 with 1 Axes>"
      ]
     },
     "metadata": {
      "needs_background": "light"
     },
     "output_type": "display_data"
    }
   ],
   "source": [
    "plt.plot(history.history['loss'])\n",
    "plt.plot(history.history['val_loss'])\n",
    "plt.title('model loss')\n",
    "plt.ylabel('loss')\n",
    "plt.xlabel('epoch')\n",
    "plt.legend(['train', 'val'], loc='upper left')\n",
    "plt.show()"
   ]
  },
  {
   "cell_type": "markdown",
   "id": "japanese-interview",
   "metadata": {
    "id": "japanese-interview",
    "papermill": {
     "duration": 0.395467,
     "end_time": "2021-07-04T09:04:14.260613",
     "exception": false,
     "start_time": "2021-07-04T09:04:13.865146",
     "status": "completed"
    },
    "tags": []
   },
   "source": [
    "### **Apply model on the test data, and check the Accuracy and F1 score"
   ]
  },
  {
   "cell_type": "code",
   "execution_count": 109,
   "id": "designing-porter",
   "metadata": {
    "execution": {
     "iopub.execute_input": "2021-07-04T09:04:15.060622Z",
     "iopub.status.busy": "2021-07-04T09:04:15.059628Z",
     "iopub.status.idle": "2021-07-04T09:04:21.680710Z",
     "shell.execute_reply": "2021-07-04T09:04:21.681154Z",
     "shell.execute_reply.started": "2021-07-04T06:33:49.639085Z"
    },
    "id": "designing-porter",
    "outputId": "7acde193-0e60-4d9c-c2a4-bda22d86fe28",
    "papermill": {
     "duration": 7.024945,
     "end_time": "2021-07-04T09:04:21.681300",
     "exception": false,
     "start_time": "2021-07-04T09:04:14.656355",
     "status": "completed"
    },
    "scrolled": true,
    "tags": []
   },
   "outputs": [
    {
     "name": "stdout",
     "output_type": "stream",
     "text": [
      "63/63 [==============================] - 62s 950ms/step\n"
     ]
    }
   ],
   "source": [
    "result = model.predict([test_input_ids,test_attention_masks])\n",
    "y_prediction = np.zeros_like(result)\n",
    "y_prediction[np.arange(len(result)), result.argmax(1)] = 1"
   ]
  },
  {
   "cell_type": "markdown",
   "id": "residential-surgery",
   "metadata": {
    "id": "residential-surgery",
    "papermill": {
     "duration": 0.385338,
     "end_time": "2021-07-04T09:04:22.453027",
     "exception": false,
     "start_time": "2021-07-04T09:04:22.067689",
     "status": "completed"
    },
    "tags": []
   },
   "source": [
    "**Accuracy and F1 Score of Model**"
   ]
  },
  {
   "cell_type": "code",
   "execution_count": 110,
   "id": "adolescent-stock",
   "metadata": {
    "execution": {
     "iopub.execute_input": "2021-07-04T09:04:23.230790Z",
     "iopub.status.busy": "2021-07-04T09:04:23.229972Z",
     "iopub.status.idle": "2021-07-04T09:04:23.244988Z",
     "shell.execute_reply": "2021-07-04T09:04:23.244305Z",
     "shell.execute_reply.started": "2021-07-04T06:33:56.612618Z"
    },
    "id": "adolescent-stock",
    "outputId": "bad04c71-8e8a-4fe5-9e52-6c385500660c",
    "papermill": {
     "duration": 0.405142,
     "end_time": "2021-07-04T09:04:23.245135",
     "exception": false,
     "start_time": "2021-07-04T09:04:22.839993",
     "status": "completed"
    },
    "tags": []
   },
   "outputs": [
    {
     "name": "stdout",
     "output_type": "stream",
     "text": [
      "Accuracy  0.9255\n",
      "F1 Score : 0.8845076344621843\n"
     ]
    }
   ],
   "source": [
    "from sklearn.metrics import accuracy_score, f1_score, confusion_matrix, recall_score \n",
    "accuracy = accuracy_score(y_test, y_prediction)\n",
    "print('Accuracy ', accuracy)\n",
    "f1 = f1_score(y_test, y_prediction, average = 'macro')\n",
    "print('F1 Score :', f1)\n",
    "# recall = recall_score(y_test, y_prediction)\n",
    "# print('Recall:', recall)\n",
    "# matrix = confusion_matrix(y_test, y_prediction)\n",
    "# print('Matrix:', matrix)\n"
   ]
  },
  {
   "cell_type": "code",
   "execution_count": 111,
   "id": "6f7a203b",
   "metadata": {
    "scrolled": true
   },
   "outputs": [
    {
     "name": "stdout",
     "output_type": "stream",
     "text": [
      "              precision    recall  f1-score   support\n",
      "\n",
      "           0       0.93      0.93      0.93       275\n",
      "           1       0.85      0.92      0.88       224\n",
      "           2       0.99      0.91      0.94       695\n",
      "           3       0.74      0.98      0.84       159\n",
      "           4       0.99      0.95      0.97       581\n",
      "           5       0.69      0.79      0.74        66\n",
      "\n",
      "   micro avg       0.93      0.93      0.93      2000\n",
      "   macro avg       0.86      0.91      0.88      2000\n",
      "weighted avg       0.93      0.93      0.93      2000\n",
      " samples avg       0.93      0.93      0.93      2000\n",
      "\n"
     ]
    }
   ],
   "source": [
    "from sklearn.metrics import classification_report\n",
    "print(classification_report(y_test, y_prediction))"
   ]
  },
  {
   "cell_type": "code",
   "execution_count": 23,
   "id": "executive-symphony",
   "metadata": {
    "colab": {
     "base_uri": "https://localhost:8080/",
     "height": 235
    },
    "execution": {
     "iopub.execute_input": "2021-07-04T09:04:24.193908Z",
     "iopub.status.busy": "2021-07-04T09:04:24.193120Z",
     "iopub.status.idle": "2021-07-04T09:04:27.214135Z",
     "shell.execute_reply": "2021-07-04T09:04:27.214583Z",
     "shell.execute_reply.started": "2021-07-04T06:34:10.517145Z"
    },
    "id": "executive-symphony",
    "outputId": "84cc8b50-91af-4510-d4a0-de3f899998ce",
    "papermill": {
     "duration": 3.584136,
     "end_time": "2021-07-04T09:04:27.214774",
     "exception": false,
     "start_time": "2021-07-04T09:04:23.630638",
     "status": "completed"
    },
    "scrolled": false,
    "tags": []
   },
   "outputs": [],
   "source": [
    "# Save the weight ONLY AFTER YOUR TRAINING, THEN PLEASE COMMENT OUT, BECAUSE SUBSEQUENTLY running save_weights (without retraining) will screw up the saved model\n",
    "# model.save_weights('Emotion_weights.h5')\n",
    "#don't run this after reopen the file\n"
   ]
  },
  {
   "cell_type": "markdown",
   "id": "laughing-blues",
   "metadata": {
    "id": "laughing-blues",
    "papermill": {
     "duration": 0.488278,
     "end_time": "2021-07-04T09:04:30.110840",
     "exception": false,
     "start_time": "2021-07-04T09:04:29.622562",
     "status": "completed"
    },
    "tags": []
   },
   "source": [
    "# USING THE MODEL\n",
    "\n",
    "INSTRUCTION ON HOW TO LOAD THE MODEL AND RUN INFERENCE BELOW\n",
    "1) OPEN FILES. \n",
    "\n",
    "2) RUN UPTIL BEFORE MODEL TRAINING ( NOTE**** DO NOT RE-TRAIN MODEL OR IT WILL TAKE 4 HOURS)\n",
    "\n",
    "3) RUN INFERENCE BELOW AND TEST YOUR TEXTS\n",
    "\n",
    "*** NOTE: DO NOT RUN model.save_weights because it will change the model weights and you will have to retrain "
   ]
  },
  {
   "cell_type": "code",
   "execution_count": 24,
   "id": "narrative-department",
   "metadata": {
    "execution": {
     "iopub.execute_input": "2021-07-04T09:04:30.900853Z",
     "iopub.status.busy": "2021-07-04T09:04:30.900133Z",
     "iopub.status.idle": "2021-07-04T09:04:30.903768Z",
     "shell.execute_reply": "2021-07-04T09:04:30.903246Z",
     "shell.execute_reply.started": "2021-07-04T08:48:15.717597Z"
    },
    "id": "narrative-department",
    "papermill": {
     "duration": 0.408164,
     "end_time": "2021-07-04T09:04:30.903882",
     "exception": false,
     "start_time": "2021-07-04T09:04:30.495718",
     "status": "completed"
    },
    "tags": []
   },
   "outputs": [],
   "source": [
    "def plot_result(result):\n",
    "    sns.barplot(x = 'Category', y = 'Confidence',  data = result )\n",
    "    plt.xlabel('Categories', size=14)\n",
    "    plt.ylabel('Confidence', size=14)\n",
    "    plt.title('Emotion Classification', size=16)"
   ]
  },
  {
   "cell_type": "code",
   "execution_count": 25,
   "id": "alpha-victory",
   "metadata": {
    "execution": {
     "iopub.execute_input": "2021-07-04T09:04:31.700424Z",
     "iopub.status.busy": "2021-07-04T09:04:31.699522Z",
     "iopub.status.idle": "2021-07-04T09:04:31.702105Z",
     "shell.execute_reply": "2021-07-04T09:04:31.701703Z",
     "shell.execute_reply.started": "2021-07-04T08:48:15.908267Z"
    },
    "id": "alpha-victory",
    "papermill": {
     "duration": 0.414282,
     "end_time": "2021-07-04T09:04:31.702217",
     "exception": false,
     "start_time": "2021-07-04T09:04:31.287935",
     "status": "completed"
    },
    "tags": []
   },
   "outputs": [],
   "source": [
    "def roberta_inference_encode(data,maximum_length) :\n",
    "    input_ids = []\n",
    "    attention_masks = []\n",
    "  \n",
    "\n",
    "  \n",
    "    encoded = tokenizer.encode_plus(\n",
    "    data,\n",
    "    add_special_tokens=True,\n",
    "    max_length=maximum_length,\n",
    "    pad_to_max_length=True,\n",
    "\n",
    "    return_attention_mask=True\n",
    "\n",
    "    )\n",
    "\n",
    "    input_ids.append(encoded['input_ids'])\n",
    "    attention_masks.append(encoded['attention_mask'])\n",
    "    return np.array(input_ids),np.array(attention_masks)"
   ]
  },
  {
   "cell_type": "code",
   "execution_count": 26,
   "id": "separate-company",
   "metadata": {
    "execution": {
     "iopub.execute_input": "2021-07-04T09:04:32.717526Z",
     "iopub.status.busy": "2021-07-04T09:04:32.716976Z",
     "iopub.status.idle": "2021-07-04T09:04:32.720896Z",
     "shell.execute_reply": "2021-07-04T09:04:32.720484Z",
     "shell.execute_reply.started": "2021-07-04T08:48:16.682823Z"
    },
    "id": "separate-company",
    "papermill": {
     "duration": 0.617285,
     "end_time": "2021-07-04T09:04:32.721009",
     "exception": false,
     "start_time": "2021-07-04T09:04:32.103724",
     "status": "completed"
    },
    "tags": []
   },
   "outputs": [],
   "source": [
    "def inference(text_sentence, max_len):\n",
    "    preprocessed_text = preprocess(text_sentence)\n",
    "    input_ids, attention_masks = roberta_inference_encode(preprocessed_text, maximum_length = max_len)\n",
    "    model = create_model(roberta_model, 43)\n",
    "    model.load_weights('Emotion_weights.h5')\n",
    "    result = model.predict([input_ids, attention_masks])\n",
    "    result = pd.DataFrame(dict(zip(list(le.categories_[0]), [round(x*100, 2)for x in result[0]])).items(), columns = ['Category', 'Confidence'])\n",
    "    plot_result(result)\n",
    "    return result"
   ]
  },
  {
   "cell_type": "code",
   "execution_count": 27,
   "id": "indian-concord",
   "metadata": {
    "execution": {
     "iopub.execute_input": "2021-07-04T09:04:33.493908Z",
     "iopub.status.busy": "2021-07-04T09:04:33.492946Z",
     "iopub.status.idle": "2021-07-04T09:04:39.338367Z",
     "shell.execute_reply": "2021-07-04T09:04:39.337916Z",
     "shell.execute_reply.started": "2021-07-04T08:48:28.865841Z"
    },
    "id": "indian-concord",
    "outputId": "677cbdab-609e-462b-cec3-6385297f5130",
    "papermill": {
     "duration": 6.234535,
     "end_time": "2021-07-04T09:04:39.338490",
     "exception": false,
     "start_time": "2021-07-04T09:04:33.103955",
     "status": "completed"
    },
    "scrolled": false,
    "tags": []
   },
   "outputs": [
    {
     "name": "stdout",
     "output_type": "stream",
     "text": [
      "1/1 [==============================] - 2s 2s/step\n",
      "   Category  Confidence\n",
      "0     anger       19.00\n",
      "1      fear        0.44\n",
      "2       joy       25.12\n",
      "3      love       37.76\n",
      "4   sadness       17.55\n",
      "5  surprise        0.12\n"
     ]
    },
    {
     "data": {
      "image/png": "[encoded data removed]",
      "text/plain": [
       "<Figure size 432x288 with 1 Axes>"
      ]
     },
     "metadata": {
      "needs_background": "light"
     },
     "output_type": "display_data"
    }
   ],
   "source": [
    "result = inference(\"i love you very much\", max_len)\n",
    "print(result)"
   ]
  },
  {
   "cell_type": "code",
   "execution_count": null,
   "id": "dde89d56",
   "metadata": {
    "id": "dde89d56"
   },
   "outputs": [],
   "source": []
  }
 ],
 "metadata": {
  "colab": {
   "collapsed_sections": [],
   "name": "VERSION TO SUBMIT 1.0.ipynb",
   "provenance": []
  },
  "kernelspec": {
   "display_name": "Python 3 (ipykernel)",
   "language": "python",
   "name": "python3"
  },
  "language_info": {
   "codemirror_mode": {
    "name": "ipython",
    "version": 3
   },
   "file_extension": ".py",
   "mimetype": "text/x-python",
   "name": "python",
   "nbconvert_exporter": "python",
   "pygments_lexer": "ipython3",
   "version": "3.9.7"
  },
  "papermill": {
   "default_parameters": {},
   "duration": 755.967641,
   "end_time": "2021-07-04T09:04:43.274041",
   "environment_variables": {},
   "exception": null,
   "input_path": "__notebook__.ipynb",
   "output_path": "__notebook__.ipynb",
   "parameters": {},
   "start_time": "2021-07-04T08:52:07.306400",
   "version": "2.3.3"
  }
 },
 "nbformat": 4,
 "nbformat_minor": 5
}
